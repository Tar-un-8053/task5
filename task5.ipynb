{
 "cells": [
  {
   "cell_type": "code",
   "execution_count": 1,
   "id": "30b9c9d0-e1eb-4bc7-9685-13d66d02151e",
   "metadata": {},
   "outputs": [],
   "source": [
    "import os\n",
    "import numpy as np\n",
    "import matplotlib.pyplot as plt\n",
    "import tensorflow as tf\n",
    "from tensorflow.keras.preprocessing.image import ImageDataGenerator\n",
    "from tensorflow.keras.applications import EfficientNetB0\n",
    "from tensorflow.keras.layers import Dense, GlobalAveragePooling2D\n",
    "from tensorflow.keras.models import Model\n",
    "from tensorflow.keras.optimizers import Adam\n",
    "from sklearn.metrics import classification_report"
   ]
  },
  {
   "cell_type": "code",
   "execution_count": 2,
   "id": "1372aa23-a63b-46ac-ac31-52dee5769956",
   "metadata": {},
   "outputs": [],
   "source": [
    "# 1. Path to the extracted dataset\n",
    "data_dir = \"archive/images\"\n",
    "\n",
    "# ✅ Check if folder exists\n",
    "if not os.path.exists(data_dir):\n",
    "    raise FileNotFoundError(f\"Path does not exist: {data_dir}\")"
   ]
  },
  {
   "cell_type": "code",
   "execution_count": 3,
   "id": "3e4fbc51-3925-4127-b88c-56792412fbf3",
   "metadata": {},
   "outputs": [
    {
     "name": "stdout",
     "output_type": "stream",
     "text": [
      "Found 80800 images belonging to 101 classes.\n",
      "Found 20200 images belonging to 101 classes.\n"
     ]
    }
   ],
   "source": [
    "# 2. ImageDataGenerator with validation split\n",
    "train_datagen = ImageDataGenerator(\n",
    "    rescale=1./255,\n",
    "    validation_split=0.2,\n",
    "    horizontal_flip=True,\n",
    "    zoom_range=0.2\n",
    ")\n",
    "\n",
    "train_generator = train_datagen.flow_from_directory(\n",
    "    data_dir,\n",
    "    target_size=(224, 224),\n",
    "    batch_size=32,\n",
    "    class_mode='categorical',\n",
    "    subset='training',\n",
    "    shuffle=True\n",
    ")\n",
    "\n",
    "val_generator = train_datagen.flow_from_directory(\n",
    "    data_dir,\n",
    "    target_size=(224, 224),\n",
    "    batch_size=32,\n",
    "    class_mode='categorical',\n",
    "    subset='validation',\n",
    "    shuffle=False\n",
    ")"
   ]
  },
  {
   "cell_type": "code",
   "execution_count": 4,
   "id": "c23581a3-3bf8-48d7-83fe-c8e9195d2f5f",
   "metadata": {},
   "outputs": [
    {
     "name": "stdout",
     "output_type": "stream",
     "text": [
      "Downloading data from https://storage.googleapis.com/keras-applications/efficientnetb0_notop.h5\n",
      "\u001b[1m16705208/16705208\u001b[0m \u001b[32m━━━━━━━━━━━━━━━━━━━━\u001b[0m\u001b[37m\u001b[0m \u001b[1m3s\u001b[0m 0us/step\n"
     ]
    }
   ],
   "source": [
    "# 3. Model Architecture using EfficientNetB0\n",
    "base_model = EfficientNetB0(weights='imagenet', include_top=False, input_shape=(224, 224, 3))\n",
    "x = GlobalAveragePooling2D()(base_model.output)\n",
    "x = Dense(256, activation='relu')(x)\n",
    "output = Dense(train_generator.num_classes, activation='softmax')(x)\n",
    "\n",
    "model = Model(inputs=base_model.input, outputs=output)"
   ]
  },
  {
   "cell_type": "code",
   "execution_count": 5,
   "id": "d80bb56f-21d4-44ec-9d90-bbbbe09525c9",
   "metadata": {},
   "outputs": [],
   "source": [
    "# 4. Compile the model\n",
    "model.compile(optimizer=Adam(), loss='categorical_crossentropy', metrics=['accuracy'])"
   ]
  },
  {
   "cell_type": "code",
   "execution_count": null,
   "id": "35ff3fbd-b03b-476a-986b-f8fecedd5f70",
   "metadata": {},
   "outputs": [
    {
     "name": "stderr",
     "output_type": "stream",
     "text": [
      "C:\\Users\\Tarun yadav\\AppData\\Local\\Programs\\Python\\Python310\\lib\\site-packages\\keras\\src\\trainers\\data_adapters\\py_dataset_adapter.py:121: UserWarning: Your `PyDataset` class should call `super().__init__(**kwargs)` in its constructor. `**kwargs` can include `workers`, `use_multiprocessing`, `max_queue_size`. Do not pass these arguments to `fit()`, as they will be ignored.\n",
      "  self._warn_if_super_not_called()\n"
     ]
    },
    {
     "name": "stdout",
     "output_type": "stream",
     "text": [
      "Epoch 1/5\n",
      "\u001b[1m  83/2525\u001b[0m \u001b[37m━━━━━━━━━━━━━━━━━━━━\u001b[0m \u001b[1m2:18:55\u001b[0m 3s/step - accuracy: 0.0648 - loss: 4.3898"
     ]
    }
   ],
   "source": [
    "# 5. Train the model\n",
    "history = model.fit(\n",
    "    train_generator,\n",
    "    validation_data=val_generator,\n",
    "    epochs=5\n",
    ")"
   ]
  },
  {
   "cell_type": "code",
   "execution_count": null,
   "id": "e856c668-5336-44fc-b1b9-dbf730d6f3af",
   "metadata": {},
   "outputs": [],
   "source": [
    "# 6. Calorie Dictionary (example)\n",
    "calorie_dict = {\n",
    "    \"apple_pie\": 296,\n",
    "    \"baby_back_ribs\": 400,\n",
    "    \"baklava\": 430,\n",
    "    \"caesar_salad\": 190,\n",
    "    \"chicken_curry\": 280,\n",
    "    \"samosa\": 262,\n",
    "    \"gulab_jamun\": 330,\n",
    "    # Add more mappings based on class names\n",
    "}"
   ]
  },
  {
   "cell_type": "code",
   "execution_count": null,
   "id": "976829cd-3ed7-455b-8072-09d8a7c8a52f",
   "metadata": {},
   "outputs": [],
   "source": [
    "# 7. Make predictions on validation set\n",
    "val_generator.reset()\n",
    "preds = model.predict(val_generator, verbose=1)\n",
    "predicted_classes = np.argmax(preds, axis=1)\n",
    "true_classes = val_generator.classes\n",
    "class_labels = list(val_generator.class_indices.keys())"
   ]
  },
  {
   "cell_type": "code",
   "execution_count": null,
   "id": "cee6ae2d-3942-47a6-9b1d-88d780d96129",
   "metadata": {},
   "outputs": [],
   "source": [
    "# 8. Show a few predictions with estimated calories\n",
    "for i in range(5):\n",
    "    image, label = val_generator[i][0][0], val_generator[i][1][0]\n",
    "    pred_class_index = np.argmax(preds[i])\n",
    "    pred_class_name = class_labels[pred_class_index]\n",
    "    calories = calorie_dict.get(pred_class_name, \"Unknown\")\n",
    "\n",
    "    plt.imshow(image)\n",
    "    plt.title(f\"{pred_class_name} | Estimated Calories: {calories} kcal/100g\")\n",
    "    plt.axis('off')\n",
    "    plt.show()"
   ]
  }
 ],
 "metadata": {
  "kernelspec": {
   "display_name": "Python 3 (ipykernel)",
   "language": "python",
   "name": "python3"
  },
  "language_info": {
   "codemirror_mode": {
    "name": "ipython",
    "version": 3
   },
   "file_extension": ".py",
   "mimetype": "text/x-python",
   "name": "python",
   "nbconvert_exporter": "python",
   "pygments_lexer": "ipython3",
   "version": "3.10.11"
  }
 },
 "nbformat": 4,
 "nbformat_minor": 5
}
